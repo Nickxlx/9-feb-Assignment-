{
 "cells": [
  {
   "cell_type": "markdown",
   "id": "c6211f5d-c079-47b1-b33c-c2c4ec9f8dbb",
   "metadata": {},
   "source": [
    "Q1, Create a vehicle class with an init method having instance variables as name_of_vehicle, max_speed\n",
    "and average_of_vehicle."
   ]
  },
  {
   "cell_type": "code",
   "execution_count": 49,
   "id": "3cc2a2e2-1774-4c00-a029-17d8840f0249",
   "metadata": {},
   "outputs": [],
   "source": [
    "class vehicle:\n",
    "    \n",
    "    def __init__(self,name, max_speed, average_of_vehicle):\n",
    "        self.name_of_vehicle = name\n",
    "        self.max_speed  = max_speed \n",
    "        self.average_of_vehicle = average_of_vehicle"
   ]
  },
  {
   "cell_type": "code",
   "execution_count": null,
   "id": "c44b6b8a-f95f-45ca-bfb1-39212f152320",
   "metadata": {},
   "outputs": [],
   "source": []
  },
  {
   "cell_type": "markdown",
   "id": "66394f6b-cd78-4cbc-b8c3-9d626bb9b474",
   "metadata": {},
   "source": [
    "Q2. Create a child class car from the vehicle class created in Que 1, which will inherit the vehicle class.\n",
    "Create a method named seating_capacity which takes capacity as an argument and returns the name of\n",
    "the vehicle and its seating capacity."
   ]
  },
  {
   "cell_type": "code",
   "execution_count": 50,
   "id": "f6f63219-e90f-4329-9de3-1381bae7da72",
   "metadata": {},
   "outputs": [],
   "source": [
    "class car(vehicle):\n",
    "    \n",
    "    def seating_capacity (self, capacity):\n",
    "        \n",
    "        return self.name_of_vehicle ,capacity\n",
    "    "
   ]
  },
  {
   "cell_type": "code",
   "execution_count": 51,
   "id": "65f1cdaf-8fb0-4dbb-80f0-8c818aadf821",
   "metadata": {},
   "outputs": [],
   "source": [
    "c = car(\"lamborgini\", 350, 15)"
   ]
  },
  {
   "cell_type": "code",
   "execution_count": 52,
   "id": "9748896a-22dc-4298-8150-4260cac02b61",
   "metadata": {},
   "outputs": [
    {
     "data": {
      "text/plain": [
       "('lamborgini', 2)"
      ]
     },
     "execution_count": 52,
     "metadata": {},
     "output_type": "execute_result"
    }
   ],
   "source": [
    "c.seating_capacity(2)"
   ]
  },
  {
   "cell_type": "code",
   "execution_count": null,
   "id": "37c64906-4c4f-4a37-aa94-1fcc1a53eb3f",
   "metadata": {},
   "outputs": [],
   "source": []
  },
  {
   "cell_type": "markdown",
   "id": "0bfc9c29-f910-4deb-a0da-79ddfea62eda",
   "metadata": {},
   "source": [
    "Q3. What is multiple inheritance? Write a python code to demonstrate multiple inheritance.\n",
    "\n",
    "Answer --> In Multiple inheritance chiid class acquire the properties of both the parent class at once by passsing parent class as an argument in child class by comma sperated"
   ]
  },
  {
   "cell_type": "code",
   "execution_count": 26,
   "id": "44770294-d690-4744-b6fb-2976ebe2a737",
   "metadata": {},
   "outputs": [],
   "source": [
    "class parent1:\n",
    "    \n",
    "    def car_model1 (self):\n",
    "        print(\"This is parent1 class car model \")"
   ]
  },
  {
   "cell_type": "code",
   "execution_count": 27,
   "id": "6fe9a6f2-01b3-4a0e-939d-b0e530b1107f",
   "metadata": {},
   "outputs": [],
   "source": [
    "class parent2:\n",
    "    \n",
    "    def car_model2 (self):\n",
    "        print(\"This is parent2 class car model \")"
   ]
  },
  {
   "cell_type": "code",
   "execution_count": 28,
   "id": "5051cdc8-ee3e-4365-9bda-73560458c008",
   "metadata": {},
   "outputs": [],
   "source": [
    "class child(parent1,parent2):\n",
    "    pass"
   ]
  },
  {
   "cell_type": "code",
   "execution_count": 29,
   "id": "98630b85-1071-476b-be39-f194a48deb85",
   "metadata": {},
   "outputs": [],
   "source": [
    "c = child()"
   ]
  },
  {
   "cell_type": "code",
   "execution_count": 30,
   "id": "155206a3-a620-446e-8840-0b66d82b4adc",
   "metadata": {},
   "outputs": [
    {
     "name": "stdout",
     "output_type": "stream",
     "text": [
      "This is parent1 class car model \n"
     ]
    }
   ],
   "source": [
    "c.car_model1()"
   ]
  },
  {
   "cell_type": "code",
   "execution_count": 31,
   "id": "3d9141d7-de03-4e30-b12b-52f3da6eb126",
   "metadata": {},
   "outputs": [
    {
     "name": "stdout",
     "output_type": "stream",
     "text": [
      "This is parent2 class car model \n"
     ]
    }
   ],
   "source": [
    "c.car_model2()"
   ]
  },
  {
   "cell_type": "code",
   "execution_count": null,
   "id": "ca290c6c-0b94-4450-9b96-b422abbe8c2c",
   "metadata": {},
   "outputs": [],
   "source": []
  },
  {
   "cell_type": "markdown",
   "id": "1660ec7e-aace-4629-a747-41bfb99486b6",
   "metadata": {},
   "source": [
    "Q4. What are getter and setter in python? Create a class and create a getter and a setter method in this\n",
    "class.\n",
    "\n",
    "Answer--> Getters & Setters is use to add validation logic around getting and setting a value.\n",
    "Tts help to avoid direct access of a class field i.e. private variables cannot be accessed directly or modified by external user."
   ]
  },
  {
   "cell_type": "code",
   "execution_count": 11,
   "id": "fe906d45-2433-4ed9-a983-4da348cb6900",
   "metadata": {},
   "outputs": [
    {
     "data": {
      "text/plain": [
       "21"
      ]
     },
     "execution_count": 11,
     "metadata": {},
     "output_type": "execute_result"
    }
   ],
   "source": [
    "class test:\n",
    "    \n",
    "\tdef __init__(self, age = 0):\n",
    "\t\tself._age = age\n",
    "\t\n",
    "\t# getter method\n",
    "\tdef get_age(self):\n",
    "\t\treturn self._age\n",
    "\t\n",
    "\t# setter method\n",
    "\tdef set_age(self, x):\n",
    "\t\tself._age = x\n",
    "\n",
    "t = test()\n",
    "\n",
    "# setting the age using setter\n",
    "t.set_age(21)\n",
    "\n",
    "t._age\n"
   ]
  },
  {
   "cell_type": "code",
   "execution_count": 12,
   "id": "eb72e56f-3ca1-46eb-a71d-98692b7821b4",
   "metadata": {},
   "outputs": [
    {
     "data": {
      "text/plain": [
       "21"
      ]
     },
     "execution_count": 12,
     "metadata": {},
     "output_type": "execute_result"
    }
   ],
   "source": [
    "# retrieving age using getter\n",
    "t.get_age()\n"
   ]
  },
  {
   "cell_type": "code",
   "execution_count": null,
   "id": "c0c35b17-0c40-4b7c-9329-9ab2b5bbead9",
   "metadata": {},
   "outputs": [],
   "source": []
  },
  {
   "cell_type": "markdown",
   "id": "752866c7-2342-4f10-aff7-17331a6dc159",
   "metadata": {},
   "source": [
    "Q5.What is method overriding in python? Write a python code to demonstrate method overriding.\n",
    "\n",
    "Answer --> Method overriding in Python is when you have two methods with the same name that each perform different tasks. This is an important feature of inheritance in Python.\n",
    "In method overriding, the child class can change its functions that are defined by its ancestral classes. In other words, the child class has access to the properties and functions of the parent class method while also extending additional functions of its own to the method. If a method in a superclass coincides with that of a subclass, then the subclass is said to override the superclass."
   ]
  },
  {
   "cell_type": "code",
   "execution_count": 3,
   "id": "d0df4f56-b59f-4404-8eeb-f3f9c68d94bc",
   "metadata": {},
   "outputs": [
    {
     "name": "stdout",
     "output_type": "stream",
     "text": [
      "The method Walk here is overridden in the code\n",
      "Hello, I am the child class\n",
      "Hello, I am the parent class\n"
     ]
    }
   ],
   "source": [
    "class Animal:\n",
    "    def Walk(self):\n",
    "        print('Hello, I am the parent class')\n",
    "\n",
    "class Dog(Animal):\n",
    "    def Walk(self):\n",
    "        print('Hello, I am the child class')\n",
    "        \n",
    "print('The method Walk here is overridden in the code')\n",
    "\n",
    "# Invoking Child class through object r\n",
    "\n",
    "r = Dog()\n",
    "r.Walk()\n",
    "\n",
    "# Invoking Parent class through object r\n",
    "\n",
    "r = Animal()\n",
    "r.Walk()"
   ]
  },
  {
   "cell_type": "code",
   "execution_count": null,
   "id": "2de9b6f7-f1cf-434f-ad33-c26cd6850572",
   "metadata": {},
   "outputs": [],
   "source": []
  }
 ],
 "metadata": {
  "kernelspec": {
   "display_name": "Python 3 (ipykernel)",
   "language": "python",
   "name": "python3"
  },
  "language_info": {
   "codemirror_mode": {
    "name": "ipython",
    "version": 3
   },
   "file_extension": ".py",
   "mimetype": "text/x-python",
   "name": "python",
   "nbconvert_exporter": "python",
   "pygments_lexer": "ipython3",
   "version": "3.10.8"
  }
 },
 "nbformat": 4,
 "nbformat_minor": 5
}
